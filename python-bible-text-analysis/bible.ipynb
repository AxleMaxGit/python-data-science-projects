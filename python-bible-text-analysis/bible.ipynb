{
 "cells": [
  {
   "cell_type": "markdown",
   "metadata": {},
   "source": [
    "### Claim the most common letters in the bible (in order) spelled \"is no hate\" is refuted"
   ]
  },
  {
   "cell_type": "code",
   "execution_count": 7,
   "metadata": {},
   "outputs": [
    {
     "data": {
      "text/plain": [
       "4452519"
      ]
     },
     "execution_count": 7,
     "metadata": {},
     "output_type": "execute_result"
    }
   ],
   "source": [
    "import requests\n",
    "import re\n",
    "from collections import Counter\n",
    "\n",
    "url = 'http://www.gutenberg.org/cache/epub/10/pg10.txt'\n",
    "r = requests.get(url)\n",
    "open('bible.txt', 'wb').write(r.content)"
   ]
  },
  {
   "cell_type": "code",
   "execution_count": 12,
   "metadata": {},
   "outputs": [],
   "source": [
    "f = open(\"bible.txt\", \"r\")\n",
    "text = f.read()\n",
    "f.close()\n",
    "\n",
    "#remove newlines\n",
    "clean_text = text.replace(\"\\n\", \"\")\n",
    "\n",
    "#remove publisher metadata\n",
    "bible_text = clean_text[1011:-18359]\n",
    "\n",
    "#remove non-letter characters\n",
    "letters = re.sub(r\"[^A-Za-z]+\", '', bible_text)\n",
    "\n",
    "#get totals\n",
    "top = Counter(letters.lower()).most_common()"
   ]
  },
  {
   "cell_type": "code",
   "execution_count": 13,
   "metadata": {},
   "outputs": [
    {
     "name": "stdout",
     "output_type": "stream",
     "text": [
      "('e', 410407)\n",
      "('t', 316225)\n",
      "('h', 282154)\n",
      "('a', 274726)\n",
      "('o', 241850)\n",
      "('n', 224030)\n",
      "('i', 192838)\n",
      "('s', 189267)\n",
      "('r', 169168)\n",
      "('d', 157573)\n",
      "('l', 129452)\n",
      "('f', 83158)\n",
      "('u', 82970)\n",
      "('m', 79573)\n",
      "('w', 65218)\n",
      "('y', 58254)\n",
      "('g', 54880)\n",
      "('c', 54474)\n",
      "('b', 48589)\n",
      "('p', 42810)\n",
      "s i n o a h t e "
     ]
    },
    {
     "data": {
      "text/plain": [
       "[None, None, None, None, None, None, None, None]"
      ]
     },
     "execution_count": 13,
     "metadata": {},
     "output_type": "execute_result"
    }
   ],
   "source": [
    "#print the most frequent letters with count\n",
    "[print(i) for i in top[:20]]\n",
    "\n",
    "#print the 8 top letters in reverse order\n",
    "[print(k, end =\" \") for k, _ in reversed(top[:8])]"
   ]
  },
  {
   "cell_type": "code",
   "execution_count": null,
   "metadata": {},
   "outputs": [],
   "source": []
  }
 ],
 "metadata": {
  "kernelspec": {
   "display_name": "Python 3",
   "language": "python",
   "name": "python3"
  },
  "language_info": {
   "codemirror_mode": {
    "name": "ipython",
    "version": 3
   },
   "file_extension": ".py",
   "mimetype": "text/x-python",
   "name": "python",
   "nbconvert_exporter": "python",
   "pygments_lexer": "ipython3",
   "version": "3.7.3"
  }
 },
 "nbformat": 4,
 "nbformat_minor": 4
}
