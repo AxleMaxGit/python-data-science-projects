{
 "cells": [
  {
   "cell_type": "code",
   "execution_count": 1,
   "metadata": {},
   "outputs": [
    {
     "name": "stdout",
     "output_type": "stream",
     "text": [
      "(1, 300632)\n",
      "(2, 175574)\n",
      "(3, 124061)\n",
      "(4, 96189)\n",
      "(5, 79398)\n",
      "(6, 66039)\n",
      "(7, 56844)\n",
      "(8, 54034)\n",
      "(9, 47229)\n"
     ]
    },
    {
     "data": {
      "text/plain": [
       "[None, None, None, None, None, None, None, None, None]"
      ]
     },
     "execution_count": 1,
     "metadata": {},
     "output_type": "execute_result"
    }
   ],
   "source": [
    "from random import choices\n",
    "\n",
    "from collections import Counter\n",
    "\n",
    "#specify a list of values to generate occurrenced of\n",
    "#these are the digits we was as leading digits\n",
    "population = [1, 2, 3, 4, 5, 6, 7, 8, 9]\n",
    "\n",
    "#Specify the weights \n",
    "#these are the Benford Law weights)\n",
    "weights = [0.301, 0.176, 0.124, 0.096, 0.079, 0.066, 0.057, 0.054, 0.047]\n",
    "\n",
    "#generate sample first_digit set with Benford disctibution\n",
    "#k = 10**6 generates 1 million values \n",
    "first_digits = choices(population, weights, k=10**6)\n",
    "\n",
    "#use the standard library's counter module to get the counts in order\n",
    "values_in_order = Counter(first_digits).most_common()\n",
    "\n",
    "[print(i) for i in values_in_order]"
   ]
  },
  {
   "cell_type": "code",
   "execution_count": 2,
   "metadata": {},
   "outputs": [
    {
     "data": {
      "image/png": "[encoded data removed]",
      "text/plain": [
       "<Figure size 720x720 with 1 Axes>"
      ]
     },
     "metadata": {
      "needs_background": "light"
     },
     "output_type": "display_data"
    }
   ],
   "source": [
    "#Plot the result\n",
    "import matplotlib.pyplot as plt\n",
    "\n",
    "#For Jupyter notebooks uncomment the line below otherwise you will need to run the cell twice for the plot to appear\n",
    "%matplotlib inline\n",
    "\n",
    "#Get the values for each digit\n",
    "count = []\n",
    "for c in values_in_order:\n",
    "    count.append(c[1])\n",
    "    \n",
    "#sets spaces to put digit count into\n",
    "y_pos = population\n",
    "\n",
    "#set size of the whole chart\n",
    "plt.figure(figsize=(10, 10))\n",
    "\n",
    "# Label the axes and the chart\n",
    "plt.xticks(y_pos, population)\n",
    "plt.ylabel('Leading Digit Count')\n",
    "plt.xlabel('Digit')\n",
    "plt.title('Benford\\'s Law Distribution')\n",
    " \n",
    "# Create bars and choose color\n",
    "plt.bar(y_pos, count, color = 'pink')\n",
    " \n",
    "# Limits for the Y axis\n",
    "plt.ylim(0, int(max(count)*1.1))\n",
    " \n",
    "#Display the Bar Graph\n",
    "plt.show()"
   ]
  },
  {
   "cell_type": "code",
   "execution_count": null,
   "metadata": {},
   "outputs": [],
   "source": []
  },
  {
   "cell_type": "code",
   "execution_count": 7,
   "metadata": {},
   "outputs": [
    {
     "name": "stdout",
     "output_type": "stream",
     "text": [
      "There are 11080 leading 1's\n",
      "There are 11175 leading 2's\n",
      "There are 11309 leading 3's\n",
      "There are 11123 leading 4's\n",
      "There are 10992 leading 5's\n",
      "There are 11149 leading 6's\n",
      "There are 11039 leading 7's\n",
      "There are 11085 leading 8's\n",
      "There are 11048 leading 9's\n"
     ]
    }
   ],
   "source": [
    "import random\n",
    "#a list to store the generated random numbers\n",
    "number_set = []\n",
    "#Generate 100,000 random numbers\n",
    "for x in range(100000):\n",
    "   #pick numbers between 1 and 10,000\n",
    "   number_set.append(random.randint(1,10001))\n",
    "\n",
    "##A list to store the leading digits\n",
    "first_digit_set = []\n",
    "#a method to get the leading digit\n",
    "def get_leading_digit(number):\n",
    "    #convert the number to a string\n",
    "    #take the first character\n",
    "    #convert back to an integer and return the value\n",
    "    return int(str(number)[:1])\n",
    "for d in number_set:\n",
    "    first_digit_set.append(get_leading_digit(d))\n",
    "\n",
    "for i in list(range(1, 10)):\n",
    "    print(\"There are \" + str(first_digit_set.count(i)) + \" leading \" + str(i) + \"'s\")"
   ]
  },
  {
   "cell_type": "code",
   "execution_count": null,
   "metadata": {},
   "outputs": [],
   "source": []
  }
 ],
 "metadata": {
  "kernelspec": {
   "display_name": "Python 3",
   "language": "python",
   "name": "python3"
  },
  "language_info": {
   "codemirror_mode": {
    "name": "ipython",
    "version": 3
   },
   "file_extension": ".py",
   "mimetype": "text/x-python",
   "name": "python",
   "nbconvert_exporter": "python",
   "pygments_lexer": "ipython3",
   "version": "3.7.4"
  }
 },
 "nbformat": 4,
 "nbformat_minor": 4
}
